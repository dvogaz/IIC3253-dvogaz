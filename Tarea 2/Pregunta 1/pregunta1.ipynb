{
  "nbformat": 4,
  "nbformat_minor": 0,
  "metadata": {
    "colab": {
      "name": "P1 cripto.ipynb",
      "provenance": [],
      "collapsed_sections": []
    },
    "kernelspec": {
      "name": "python3",
      "display_name": "Python 3"
    },
    "language_info": {
      "name": "python"
    }
  },
  "cells": [
    {
      "cell_type": "code",
      "source": [
        "# !pip install pycryptodome"
      ],
      "metadata": {
        "colab": {
          "base_uri": "https://localhost:8080/"
        },
        "id": "mnIAhR3Xi0KG",
        "outputId": "e59f0e4c-f9e8-45a2-853e-61826b75f335"
      },
      "execution_count": 94,
      "outputs": [
        {
          "output_type": "stream",
          "name": "stdout",
          "text": [
            "Looking in indexes: https://pypi.org/simple, https://us-python.pkg.dev/colab-wheels/public/simple/\n",
            "Requirement already satisfied: pycryptodome in /usr/local/lib/python3.7/dist-packages (3.14.1)\n"
          ]
        }
      ]
    },
    {
      "cell_type": "code",
      "source": [
        "# from Crypto.Cipher import AES\n",
        "\n",
        "# def AES_128(key: bytearray, message: bytearray) -> bytearray:\n",
        "#     a = AES.new(key, AES.MODE_ECB)\n",
        "#     return bytearray(a.encrypt(message))"
      ],
      "metadata": {
        "id": "7x5RAGJBwsqZ"
      },
      "execution_count": 95,
      "outputs": []
    },
    {
      "cell_type": "code",
      "execution_count": 96,
      "metadata": {
        "id": "xKQj9yTDVIWY"
      },
      "outputs": [],
      "source": [
        "def davies_meyer(encrypt, l_key: int, l_message: int):\n",
        "  def compresion(m: bytearray):\n",
        "    u = m[0:l_key]\n",
        "    v = m[l_key:l_key + l_message]\n",
        "    enc = encrypt(u, v)\n",
        "    return bytearray(a ^ b for (a, b) in zip(enc, v))\n",
        "  return compresion"
      ]
    },
    {
      "cell_type": "code",
      "source": [
        "def pad(message: bytearray, l_block: int):\n",
        "  l_message = len(message)\n",
        "  module = l_message % l_block\n",
        "  if module != 0:\n",
        "    message.append(1)\n",
        "    zero = 0\n",
        "    message += zero.to_bytes(l_block - module - 1, 'big')\n",
        "  l = l_message % (2**l_block)\n",
        "  message += l.to_bytes(l_block, 'big')\n",
        "  return message"
      ],
      "metadata": {
        "id": "GkySJB2DZG1Q"
      },
      "execution_count": 97,
      "outputs": []
    },
    {
      "cell_type": "code",
      "source": [
        "def merkle_damgard(IV: bytearray, comp, l_block: int):\n",
        "  def hash(message: bytearray):\n",
        "    m = pad(message, l_block)\n",
        "    stop = l_block\n",
        "    start = 0\n",
        "    h = IV\n",
        "    while stop <= len(m):\n",
        "      h = comp(m[start:stop] + h)\n",
        "      stop += l_block\n",
        "      start += l_block\n",
        "    return h\n",
        "  return hash\n"
      ],
      "metadata": {
        "id": "iN3f-xiD5JnU"
      },
      "execution_count": 98,
      "outputs": []
    },
    {
      "cell_type": "code",
      "source": [
        "if __name__ == \"__main__\":\n",
        "  # compresion = davies_meyer(AES_128, 16, 16)\n",
        "\n",
        "  # hash = merkle_damgard(bytearray(b'1234567890123456'), compresion, 16)\n",
        "\n",
        "  # s1 = bytearray(b'Este es un mensaje de prueba para la tarea 2')\n",
        "  # s2 = bytearray(b'Este es un mensaje de Prueba para la tarea 2')\n",
        "  # s3 = bytearray(b'Un mensaje corto')\n",
        "  # s4 = bytearray(b'')\n",
        "\n",
        "  # h1 = hash(s1)\n",
        "  # h2 = hash(s2)\n",
        "  # h3 = hash(s3)\n",
        "  # h4 = hash(s4)\n",
        "\n",
        "  # print(h1)\n",
        "  # print(h2)\n",
        "  # print(h3)\n",
        "  # print(h4)\n",
        "  pass"
      ],
      "metadata": {
        "id": "1SR2Dq1LZPnw"
      },
      "execution_count": 101,
      "outputs": []
    },
    {
      "cell_type": "code",
      "source": [
        ""
      ],
      "metadata": {
        "id": "mrgBOMTLoj8e"
      },
      "execution_count": null,
      "outputs": []
    }
  ]
}