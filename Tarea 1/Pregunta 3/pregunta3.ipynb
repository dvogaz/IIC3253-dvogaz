{
  "nbformat": 4,
  "nbformat_minor": 0,
  "metadata": {
    "colab": {
      "name": "P3 - Cripto.ipynb",
      "provenance": [],
      "collapsed_sections": []
    },
    "kernelspec": {
      "name": "python3",
      "display_name": "Python 3"
    },
    "language_info": {
      "name": "python"
    }
  },
  "cells": [
    {
      "cell_type": "code",
      "execution_count": 137,
      "metadata": {
        "id": "p8Watejnn6nE"
      },
      "outputs": [],
      "source": [
        "class MerkleTree:\n",
        "  def __init__(self, strings, hash_func):\n",
        "    self.strings = strings\n",
        "    self.hash_func = hash_func\n",
        "  \n",
        "  def get_root(self, strings = []):\n",
        "    n = len(strings)\n",
        "    if not strings:\n",
        "      strings = self.strings\n",
        "      n = len(strings)\n",
        "    if len(strings)%2 > 0 and len(strings)!=1:\n",
        "      strings.append(strings[-1])\n",
        "      n = len(strings)\n",
        "\n",
        "    \n",
        "    if n > 1:\n",
        "      return self.get_root([self.hash_func(strings[i]) + self.hash_func(strings[i+1]) for i in range(0, len(strings), 2)])\n",
        "    elif n == 1:\n",
        "      return self.hash_func(strings[0])\n",
        "    \n",
        "\n",
        "  def get_proof_for(self, item, strings = [], proof = []):\n",
        "    if not strings:\n",
        "      strings = self.strings\n",
        "    if len(strings)%2 > 0 and len(strings)!=1:\n",
        "      strings.append(strings[-1])\n",
        "\n",
        "    if item not in strings:\n",
        "      return None\n",
        "    elif len(strings) == 1:\n",
        "      return proof\n",
        "    else:\n",
        "      i = strings.index(item)\n",
        "      l = 'i' if i%2 == 0 else 'd'\n",
        "      if l == 'i':\n",
        "        near = strings[i+1]\n",
        "        side = 'd'\n",
        "        new_item = self.hash_func(item) +self.hash_func(near)\n",
        "      else:\n",
        "        near = strings[i-1]\n",
        "        side = 'i'\n",
        "        new_item = self.hash_func(near) + self.hash_func(item)\n",
        "      proof.append((self.hash_func(near), side))\n",
        "      return self.get_proof_for(new_item, [self.hash_func(strings[i]) + self.hash_func(strings[i+1]) for i in range(0, len(strings), 2)], proof)\n",
        "    \n",
        "\n",
        "def verify(root, item, proof, hash_func):\n",
        "  pass"
      ]
    },
    {
      "cell_type": "code",
      "source": [
        "import hashlib"
      ],
      "metadata": {
        "id": "flMCi_R6186Z"
      },
      "execution_count": 138,
      "outputs": []
    },
    {
      "cell_type": "code",
      "source": [
        "def MD5(string):\n",
        "  return hashlib.md5(string.encode()).hexdigest()\n",
        "\n",
        "def SHA256(string):\n",
        "   return hashlib.sha256(string.encode()).hexdigest()\n"
      ],
      "metadata": {
        "id": "cZpNFHYafgJS"
      },
      "execution_count": 139,
      "outputs": []
    },
    {
      "cell_type": "code",
      "source": [
        "tree = MerkleTree(['asdf', 'wena', '1234', 'hola', 'chao'], MD5)"
      ],
      "metadata": {
        "id": "A91TbQqAfqtg"
      },
      "execution_count": 140,
      "outputs": []
    },
    {
      "cell_type": "code",
      "source": [
        "tree.get_proof_for('hello')"
      ],
      "metadata": {
        "id": "qafIP7pdkdHn"
      },
      "execution_count": 141,
      "outputs": []
    },
    {
      "cell_type": "code",
      "source": [
        "tree.get_proof_for('1234')"
      ],
      "metadata": {
        "colab": {
          "base_uri": "https://localhost:8080/"
        },
        "id": "LrHbNjYKy6EM",
        "outputId": "6d36669b-57e6-4caf-a547-b19e49d94a22"
      },
      "execution_count": 142,
      "outputs": [
        {
          "output_type": "execute_result",
          "data": {
            "text/plain": [
              "[('4d186321c1a7f0f354b297e8914ab240', 'd'),\n",
              " ('ad21ab3205307ce250876e1fe2de3f98', 'i'),\n",
              " ('9986b7ea5fc6d6229d926df3795c6b6d', 'd')]"
            ]
          },
          "metadata": {},
          "execution_count": 142
        }
      ]
    },
    {
      "cell_type": "code",
      "source": [
        ""
      ],
      "metadata": {
        "id": "zU6fFe9N6Kio"
      },
      "execution_count": null,
      "outputs": []
    }
  ]
}