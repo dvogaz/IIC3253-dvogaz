{
  "nbformat": 4,
  "nbformat_minor": 0,
  "metadata": {
    "colab": {
      "name": "P3 - Cripto.ipynb",
      "provenance": [],
      "collapsed_sections": []
    },
    "kernelspec": {
      "name": "python3",
      "display_name": "Python 3"
    },
    "language_info": {
      "name": "python"
    }
  },
  "cells": [
    {
      "cell_type": "code",
      "execution_count": 22,
      "metadata": {
        "id": "p8Watejnn6nE"
      },
      "outputs": [],
      "source": [
        "class MerkleTree:\n",
        "  def __init__(self, strings, hash_func):\n",
        "    self.strings = strings\n",
        "    self.hash_func = hash_func\n",
        "  \n",
        "  ## Obtener la raiz\n",
        "  def get_root(self, strings = []):\n",
        "    n = len(strings)\n",
        "    if not strings:\n",
        "      strings = self.strings\n",
        "      n = len(strings)\n",
        "    if len(strings)%2 > 0 and len(strings)!=1:\n",
        "      ## En caso de que el nivel de hojas no sea par, se duplica la útimo\n",
        "      strings.append(strings[-1])\n",
        "      n = len(strings)\n",
        "\n",
        "    \n",
        "    if n > 1:\n",
        "      ## Se arma recursivamente el árbol\n",
        "      ## Se unen los pares de hojas\n",
        "      return self.get_root([self.hash_func(strings[i]) + self.hash_func(strings[i+1]) for i in range(0, len(strings), 2)])\n",
        "    elif n == 1:\n",
        "      return self.hash_func(strings[0])\n",
        "    \n",
        "\n",
        "  def get_proof_for(self, item, strings = [], proof = []):\n",
        "    if not strings:\n",
        "      ## Este el caso inicial\n",
        "      ## Cuando la función por primera vez\n",
        "      ## no tiene lista de strings\n",
        "      strings = self.strings\n",
        "    if len(strings)%2 > 0 and len(strings)!=1:\n",
        "      ## En caso de que el nivel de hojas no sea par, se duplica la útimo\n",
        "      strings.append(strings[-1])\n",
        "\n",
        "    if item not in strings:\n",
        "      ## En caso de que el item no esté en la lista de strings\n",
        "      ## se retorna None\n",
        "      return None\n",
        "    elif len(strings) == 1:\n",
        "      return proof\n",
        "    else:\n",
        "      ## Se revisa si el item ingresado está a la derecha o izquieda del nodo padre\n",
        "      ## se usa módulo 2\n",
        "      i = strings.index(item)\n",
        "      l = 'i' if i%2 == 0 else 'd'\n",
        "      if l == 'i':\n",
        "        ## si es izquierdo, los datos de la hoja derecha servirán de prueba\n",
        "        near = strings[i+1]\n",
        "        side = 'd'\n",
        "        ## se arma el argumento que entra a la función de has del nodo padre\n",
        "        new_item = self.hash_func(item) +self.hash_func(near)\n",
        "      else:\n",
        "        ## si es derecho, los datos de la hoja izquierda servirán de prueba\n",
        "        near = strings[i-1]\n",
        "        side = 'i'\n",
        "        ## se arma nodo el argumento que entra a la función de has del nodo padre\n",
        "        new_item = self.hash_func(near) + self.hash_func(item)\n",
        "      ## agregamos la prueba\n",
        "      proof.append((self.hash_func(near), side))\n",
        "      ## Recursivamente buscamos al vecino del nodo padre que acabamos de armar (new_item)\n",
        "      ## Como lista de strings ingresamos los nuevos argumentos de las funciones de hash\n",
        "      ## del siguiente nivel del arbol\n",
        "      return self.get_proof_for(new_item, [self.hash_func(strings[i]) + self.hash_func(strings[i+1]) for i in range(0, len(strings), 2)], proof)"
      ]
    },
    {
      "cell_type": "code",
      "source": [
        "def verify(root, item, proof, hash_func):\n",
        "  if hash_func(item) == root:\n",
        "    ## En caso de que lleguemos armar la raiz\n",
        "    ## Entonces las pruebas sirven y retornamos True\n",
        "    return True\n",
        "  if len(proof)>0:\n",
        "    ## Se va armando la raiz del árbol desde abajo hacia arriba\n",
        "    if proof[0][1] == 'd':\n",
        "      new_item = hash_func(item) + proof[0][0]\n",
        "      return verify(root, new_item, proof[1:], hash_func)\n",
        "    elif proof[0][1] == 'i':\n",
        "      new_item = proof[0][0] + hash_func(item)\n",
        "      return verify(root, new_item, proof[1:], hash_func)\n",
        "  ## En caso de no armar correctamente la raiz\n",
        "  ## se retorna False\n",
        "  return False"
      ],
      "metadata": {
        "id": "TeyvXYaRRFoJ"
      },
      "execution_count": 24,
      "outputs": []
    },
    {
      "cell_type": "code",
      "source": [
        ""
      ],
      "metadata": {
        "id": "PA04Wo7HU22V"
      },
      "execution_count": null,
      "outputs": []
    }
  ]
}